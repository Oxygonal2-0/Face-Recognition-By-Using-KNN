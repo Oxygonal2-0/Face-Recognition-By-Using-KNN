{
 "cells": [
  {
   "cell_type": "code",
   "execution_count": 7,
   "id": "034a0a29",
   "metadata": {},
   "outputs": [],
   "source": [
    "# Recognise Faces using some classification algorithm - like Logistic, KNN, SVM etc.\n",
    "\n",
    "# 1. Load the training data (numpy arrays of all the persons)\n",
    "    # x-values are stored in the numpy arrays\n",
    "    # y-values we need to assign for each person\n",
    "# 2. Read a video stream using opencv\n",
    "# 3. Extract faces out of it\n",
    "# 4. Use KNN to find the prediction id to name of the user\n",
    "# 5. Map the predicted id to name of the user\n",
    "# 6. Display the predictions on the screen - bounding box and name"
   ]
  },
  {
   "cell_type": "code",
   "execution_count": 8,
   "id": "a799ddf7",
   "metadata": {},
   "outputs": [],
   "source": [
    "import numpy as np\n",
    "import cv2\n",
    "import os"
   ]
  },
  {
   "cell_type": "code",
   "execution_count": 9,
   "id": "99c49eab",
   "metadata": {},
   "outputs": [],
   "source": [
    "def distance(x1, x2):\n",
    "    return np.sqrt(sum((x1-x2)**2))"
   ]
  },
  {
   "cell_type": "code",
   "execution_count": 10,
   "id": "873745e5",
   "metadata": {},
   "outputs": [],
   "source": [
    "def knn(train, test, k=5):\n",
    "    dist = []\n",
    "    for i in range(train.shape[0]):\n",
    "        ix = train[i, : -1]\n",
    "        iy = train[i, -1]\n",
    "        # compute the distance from test point\n",
    "        d = distance(test, ix)\n",
    "        dist.append([d, iy])\n",
    "        \n",
    "    # Sort based on distance and get top k\n",
    "    dk = sorted(dist, key = lambda x : x[0])[:k]\n",
    "    \n",
    "    # Retrieve only the labels\n",
    "    labels = np.array(dk)[:,-1]\n",
    "    \n",
    "    # Get frequencies of each labels\n",
    "    output = np.unique(labels, return_counts = True)\n",
    "    \n",
    "    # Find max frequency and corresponding label\n",
    "    index = np.argmax(output[1])\n",
    "    return output[0][index]"
   ]
  },
  {
   "cell_type": "code",
   "execution_count": 12,
   "id": "90c2cc87",
   "metadata": {},
   "outputs": [
    {
     "name": "stdout",
     "output_type": "stream",
     "text": [
      "(37, 30000)\n",
      "(37, 1)\n",
      "(37, 30001)\n"
     ]
    }
   ],
   "source": [
    "# Init Camera\n",
    "cap = cv2.VideoCapture(0)\n",
    "\n",
    "# Face Detection \n",
    "face_cascade = cv2.CascadeClassifier(\"haarcascade_frontalface_alt.xml\")\n",
    "\n",
    "skip = 0\n",
    "face_data = []\n",
    "labels = []\n",
    "dataset_path ='./data/'\n",
    "class_id = 0\n",
    "names = {} # Mapping between id -> name\n",
    "# file_name = input(\"Enter the name of the person : \")\n",
    "\n",
    "# Data preparation\n",
    "for fx in os.listdir(dataset_path):\n",
    "    if fx.endswith('.npy'):\n",
    "        # Create a mapping between class_id and name\n",
    "        names[class_id] = fx[:-3]\n",
    "        data_item = np.load(dataset_path+fx)\n",
    "        face_data.append(data_item)\n",
    "        \n",
    "        # Create Labels for the class\n",
    "        target = class_id*np.ones((data_item.shape[0],))\n",
    "        class_id+=1\n",
    "        labels.append(target)\n",
    "        \n",
    "face_dataset = np.concatenate(face_data, axis = 0)\n",
    "face_lables = np.concatenate(labels, axis=0) .reshape((-1, 1))\n",
    "\n",
    "print(face_dataset.shape)\n",
    "print(face_lables.shape)\n",
    "\n",
    "trainset = np.concatenate((face_dataset, face_lables), axis = 1)\n",
    "print(trainset.shape)\n",
    "\n",
    "# Testing\n",
    "\n",
    "while True:\n",
    "    ret, frame = cap.read()\n",
    "    \n",
    "    if ret == False:\n",
    "        continue\n",
    "        \n",
    "    faces = face_cascade.detectMultiScale(frame, 1.3, 5)\n",
    "    \n",
    "    for face in faces:\n",
    "        x,y,w,h = face\n",
    "        \n",
    "        # Get the Face ROI\n",
    "        offset = 10\n",
    "        face_section = frame[y-offset: y+h+offset, x-offset:x+w+offset]\n",
    "        face_section = cv2.resize(face_section, (100, 100))\n",
    "        \n",
    "        # Predicted Label (out)\n",
    "        out = knn(trainset, face_section.flatten())\n",
    "        \n",
    "        # Display on the screen the name and rectangle around it.\n",
    "        pred_name = names[int(out)]\n",
    "        cv2.putText(frame, pred_name, (x, y-10), cv2.FONT_HERSHEY_SIMPLEX,1,(255, 0, 0), 2, cv2.LINE_AA)\n",
    "        cv2.rectangle(frame, (x,y), (x+w, y+h), (0, 255, 255), 2)\n",
    "    \n",
    "    cv2.imshow(\"Faces\",frame)\n",
    "    \n",
    "    #Wait for user input - q then you will stop the loop\n",
    "    key_pressed = cv2.waitKey(1) & 0xFF #(All 8 bits are 1)   # Coverting 32-bit number to 8-bit number\n",
    "    if key_pressed == ord('q'):                               # ord gives ASCII value of key which is 8 bit.\n",
    "        break \n",
    "        \n",
    "cap.release()\n",
    "cv2.destroyAllWindows()"
   ]
  },
  {
   "cell_type": "code",
   "execution_count": null,
   "id": "3586194d",
   "metadata": {},
   "outputs": [],
   "source": []
  }
 ],
 "metadata": {
  "kernelspec": {
   "display_name": "Python 3 (ipykernel)",
   "language": "python",
   "name": "python3"
  },
  "language_info": {
   "codemirror_mode": {
    "name": "ipython",
    "version": 3
   },
   "file_extension": ".py",
   "mimetype": "text/x-python",
   "name": "python",
   "nbconvert_exporter": "python",
   "pygments_lexer": "ipython3",
   "version": "3.10.0"
  }
 },
 "nbformat": 4,
 "nbformat_minor": 5
}
